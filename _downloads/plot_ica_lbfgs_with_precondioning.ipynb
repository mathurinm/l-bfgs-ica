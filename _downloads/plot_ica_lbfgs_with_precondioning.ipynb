{
  "cells": [
    {
      "source": [
        "%matplotlib inline"
      ],
      "execution_count": null,
      "cell_type": "code",
      "outputs": [],
      "metadata": {
        "collapsed": false
      }
    },
    {
      "source": [
        "\n# Blind source separation using preconditioned ICA\n\n\n\n"
      ],
      "cell_type": "markdown",
      "metadata": {}
    },
    {
      "source": [
        "import numpy as np\nimport matplotlib.pyplot as plt\n\nfrom lbfgsica import lbfgs_ica\n\nprint(__doc__)"
      ],
      "execution_count": null,
      "cell_type": "code",
      "outputs": [],
      "metadata": {
        "collapsed": false
      }
    },
    {
      "source": [
        "Generate sample data\n\n"
      ],
      "cell_type": "markdown",
      "metadata": {}
    },
    {
      "source": [
        "np.random.seed(0)\nn_samples = 2000\ntime = np.linspace(0, 8, n_samples)\n\ns1 = np.sin(2 * time) * np.sin(40 * time)\ns2 = np.sin(3 * time) ** 5\ns3 = np.random.laplace(size=s1.shape)\n\nS = np.c_[s1, s2, s3].T\n\nS /= S.std(axis=1)[:, np.newaxis]  # Standardize data\n# Mix data\nA = np.array([[1, 1, 1], [0.5, 2, 1.0], [1.5, 1.0, 2.0]])  # Mixing matrix\nX = np.dot(A, S)  # Generate observations\n\n# Compute ICA\nY, W = lbfgs_ica(X)"
      ],
      "execution_count": null,
      "cell_type": "code",
      "outputs": [],
      "metadata": {
        "collapsed": false
      }
    },
    {
      "source": [
        "Plot results\n\n"
      ],
      "cell_type": "markdown",
      "metadata": {}
    },
    {
      "source": [
        "models = [X, S, Y]\nnames = ['Observations (mixed signal)',\n         'True Sources',\n         'ICA recovered signals']\ncolors = ['red', 'steelblue', 'orange']\n\nfor ii, (model, name) in enumerate(zip(models, names), 1):\n    fig, axes = plt.subplots(3, 1, figsize=(6, 4), sharex=True, sharey=True)\n    plt.suptitle(name)\n    for ax, sig, color in zip(axes, model, colors):\n        ax.plot(sig, color=color)\n\nplt.show()"
      ],
      "execution_count": null,
      "cell_type": "code",
      "outputs": [],
      "metadata": {
        "collapsed": false
      }
    }
  ],
  "nbformat": 4,
  "metadata": {
    "language_info": {
      "codemirror_mode": {
        "name": "ipython",
        "version": 3
      },
      "mimetype": "text/x-python",
      "file_extension": ".py",
      "nbconvert_exporter": "python",
      "name": "python",
      "pygments_lexer": "ipython3",
      "version": "3.5.2"
    },
    "kernelspec": {
      "name": "python3",
      "display_name": "Python 3",
      "language": "python"
    }
  },
  "nbformat_minor": 0
}