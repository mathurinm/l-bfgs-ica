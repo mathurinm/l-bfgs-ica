{
  "nbformat_minor": 0,
  "metadata": {
    "kernelspec": {
      "display_name": "Python 3",
      "name": "python3",
      "language": "python"
    },
    "language_info": {
      "file_extension": ".py",
      "mimetype": "text/x-python",
      "pygments_lexer": "ipython3",
      "codemirror_mode": {
        "version": 3,
        "name": "ipython"
      },
      "name": "python",
      "version": "3.5.2",
      "nbconvert_exporter": "python"
    }
  },
  "nbformat": 4,
  "cells": [
    {
      "metadata": {
        "collapsed": false
      },
      "cell_type": "code",
      "source": [
        "%matplotlib inline"
      ],
      "execution_count": null,
      "outputs": []
    },
    {
      "metadata": {},
      "cell_type": "markdown",
      "source": [
        "\n# Blind source separation using preconditioned ICA\n\n\n\n"
      ]
    },
    {
      "metadata": {
        "collapsed": false
      },
      "cell_type": "code",
      "source": [
        "import numpy as np\nimport matplotlib.pyplot as plt\n\nfrom lbfgsica import lbfgs_ica\n\nprint(__doc__)"
      ],
      "execution_count": null,
      "outputs": []
    },
    {
      "metadata": {},
      "cell_type": "markdown",
      "source": [
        "Generate sample data\n\n"
      ]
    },
    {
      "metadata": {
        "collapsed": false
      },
      "cell_type": "code",
      "source": [
        "np.random.seed(0)\nn_samples = 2000\ntime = np.linspace(0, 8, n_samples)\n\ns1 = np.sin(2 * time) * np.sin(40 * time)\ns2 = np.sin(3 * time) ** 5\ns3 = np.random.laplace(size=s1.shape)\n\nS = np.c_[s1, s2, s3].T\n\nS /= S.std(axis=1)[:, np.newaxis]  # Standardize data\n# Mix data\nA = np.array([[1, 1, 1], [0.5, 2, 1.0], [1.5, 1.0, 2.0]])  # Mixing matrix\nX = np.dot(A, S)  # Generate observations\n\n# Compute ICA\nY, W = lbfgs_ica(X)"
      ],
      "execution_count": null,
      "outputs": []
    },
    {
      "metadata": {},
      "cell_type": "markdown",
      "source": [
        "Plot results\n\n"
      ]
    },
    {
      "metadata": {
        "collapsed": false
      },
      "cell_type": "code",
      "source": [
        "models = [X, S, Y]\nnames = ['Observations (mixed signal)',\n         'True Sources',\n         'ICA recovered signals']\ncolors = ['red', 'steelblue', 'orange']\n\nfor ii, (model, name) in enumerate(zip(models, names), 1):\n    fig, axes = plt.subplots(3, 1, figsize=(6, 4), sharex=True, sharey=True)\n    plt.suptitle(name)\n    for ax, sig, color in zip(axes, model, colors):\n        ax.plot(sig, color=color)\n\nplt.show()"
      ],
      "execution_count": null,
      "outputs": []
    }
  ]
}