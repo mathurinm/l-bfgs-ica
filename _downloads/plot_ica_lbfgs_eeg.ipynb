{
  "cells": [
    {
      "source": [
        "%matplotlib inline"
      ],
      "execution_count": null,
      "cell_type": "code",
      "outputs": [],
      "metadata": {
        "collapsed": false
      }
    },
    {
      "source": [
        "\n# Blind source separation using preconditioned ICA on EEG\n\n\n\n"
      ],
      "cell_type": "markdown",
      "metadata": {}
    },
    {
      "source": [
        "import numpy as np\nimport matplotlib.pyplot as plt\nimport mne\nfrom mne.datasets import sample\nfrom sklearn.decomposition import PCA\n\nfrom lbfgsica import lbfgs_ica\n\nprint(__doc__)"
      ],
      "execution_count": null,
      "cell_type": "code",
      "outputs": [],
      "metadata": {
        "collapsed": false
      }
    },
    {
      "source": [
        "Generate sample EEG data\n\n"
      ],
      "cell_type": "markdown",
      "metadata": {}
    },
    {
      "source": [
        "data_path = sample.data_path()\nraw_fname = data_path + '/MEG/sample/sample_audvis_filt-0-40_raw.fif'\n\nraw = mne.io.read_raw_fif(raw_fname, preload=True)\nraw.filter(1, 40, n_jobs=1)  # 1Hz high pass is often helpful for fitting ICA\n\npicks = mne.pick_types(raw.info, meg=False, eeg=True, eog=False,\n                       stim=False, exclude='bads')\n\nrandom_state = 0\ndata = raw[picks, :][0]\ndata = data[:, ::2]  # decimate a bit\n\n# Center\ndata -= np.mean(data, axis=1, keepdims=True)\n\n# Apply PCA for dimension reduction and whitenning.\n\nn_components = 30\npca = PCA(n_components=n_components, whiten=True, svd_solver='full')\npca.fit(data)\n\nX = pca.components_ * np.sqrt(data.shape[1])\n\n# Run ICA on X\n\nY, W = lbfgs_ica(X, maxiter=1000)"
      ],
      "execution_count": null,
      "cell_type": "code",
      "outputs": [],
      "metadata": {
        "collapsed": false
      }
    },
    {
      "source": [
        "Plot results\n\n"
      ],
      "cell_type": "markdown",
      "metadata": {}
    },
    {
      "source": [
        "n_plots = 10\nmodels = [data[:n_plots], Y[:n_plots]]\nnames = ['Observations (raw EEG)',\n         'ICA recovered sources']\nfig, axes = plt.subplots(2, 1, figsize=(7, 7))\nfor ii, (model, name, ax) in enumerate(zip(models, names, axes)):\n    ax.set_title(name)\n    ax.get_xaxis().set_visible(False)\n    ax.get_yaxis().set_visible(False)\n    offsets = np.max(model, axis=1) - np.min(model, axis=1)\n    offsets = np.cumsum(offsets)\n    ax.plot((model[:, :1000] + offsets[:, np.newaxis]).T, 'k')\n\nfig.tight_layout()\nplt.show()"
      ],
      "execution_count": null,
      "cell_type": "code",
      "outputs": [],
      "metadata": {
        "collapsed": false
      }
    }
  ],
  "nbformat": 4,
  "metadata": {
    "language_info": {
      "codemirror_mode": {
        "name": "ipython",
        "version": 3
      },
      "mimetype": "text/x-python",
      "file_extension": ".py",
      "nbconvert_exporter": "python",
      "name": "python",
      "pygments_lexer": "ipython3",
      "version": "3.5.2"
    },
    "kernelspec": {
      "name": "python3",
      "display_name": "Python 3",
      "language": "python"
    }
  },
  "nbformat_minor": 0
}